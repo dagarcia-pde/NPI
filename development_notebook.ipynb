{
 "cells": [
  {
   "cell_type": "code",
   "execution_count": 1,
   "id": "cf87070d",
   "metadata": {},
   "outputs": [],
   "source": [
    "import pandas as pd\n",
    "import numpy as np  \n",
    "import re\n",
    "import sys\n",
    "\n",
    "import PyUber\n",
    "\n",
    "import PRODUCT as prod\n",
    "import REDWING as redwing"
   ]
  },
  {
   "cell_type": "code",
   "execution_count": 2,
   "id": "368021b0",
   "metadata": {},
   "outputs": [
    {
     "name": "stderr",
     "output_type": "stream",
     "text": [
      "d:\\Python\\NPI\\REDWING.py:67: UserWarning: pandas only supports SQLAlchemy connectable (engine/connection) or database string URI or sqlite3 DBAPI2 connection. Other DBAPI2 objects are not tested. Please consider using SQLAlchemy.\n",
      "  df = pd.read_sql(query, conn)\n"
     ]
    }
   ],
   "source": [
    "rw = redwing.RedWing(\n",
    "    xeus_source='F32_PROD_XEUS',\n",
    "    debug_flag=True)"
   ]
  },
  {
   "cell_type": "code",
   "execution_count": 3,
   "id": "febde652",
   "metadata": {},
   "outputs": [
    {
     "name": "stdout",
     "output_type": "stream",
     "text": [
      "8PXMCV%A%G\n"
     ]
    }
   ],
   "source": [
    "NPI = rw.NPIs[2]\n",
    "match = re.search(r'\\((.*?)\\)', NPI)\n",
    "NPI_product = match.group(1) if match else None\n",
    "NPI_product = NPI_product.replace(' ','%')\n",
    "print(NPI_product)"
   ]
  },
  {
   "cell_type": "code",
   "execution_count": 4,
   "id": "14c0eae7",
   "metadata": {},
   "outputs": [
    {
     "name": "stderr",
     "output_type": "stream",
     "text": [
      "d:\\Python\\NPI\\PRODUCT.py:102: UserWarning: pandas only supports SQLAlchemy connectable (engine/connection) or database string URI or sqlite3 DBAPI2 connection. Other DBAPI2 objects are not tested. Please consider using SQLAlchemy.\n",
      "  df = pd.read_sql(query, conn)\n"
     ]
    },
    {
     "name": "stdout",
     "output_type": "stream",
     "text": [
      "Running master query for LOT: 'A528013'\n"
     ]
    }
   ],
   "source": [
    "prod1 = prod.Product(npi=NPI,\n",
    "                product=NPI_product,\n",
    "                xeus_source = 'F32_PROD_XEUS',\n",
    "                debug_flag = True)"
   ]
  },
  {
   "cell_type": "code",
   "execution_count": 5,
   "id": "97b6fc75",
   "metadata": {},
   "outputs": [
    {
     "name": "stdout",
     "output_type": "stream",
     "text": [
      "[{'LOT': 'A5280140', 'LOT_TYPE': 'Bull'}, {'LOT': 'A5289230', 'LOT_TYPE': 'Cross Qual'}, {'LOT': 'A5280130', 'LOT_TYPE': 'Lead Lot'}, {'LOT': 'A5289210', 'LOT_TYPE': 'Scout 1'}, {'LOT': 'A5289220', 'LOT_TYPE': 'Silent Lot'}, {'LOT': 'A528920A', 'LOT_TYPE': 'SC Scout 2'}, {'LOT': 'A5289200', 'LOT_TYPE': 'SC Scout 1'}, {'LOT': 'A528920B', 'LOT_TYPE': 'EF Scout 1'}, {'LOT': 'A528920C', 'LOT_TYPE': 'EF Scout 2'}]\n"
     ]
    }
   ],
   "source": [
    "# Future add_lot code def\n",
    "\n",
    "rw.NPI_List\n",
    "\n",
    "lots = rw.get_lots(GROUP_NAME=NPI)\n",
    "print(lots)\n",
    "# for lot in lots:\n",
    "    # print(lot)\n",
    "\n",
    "# lot_index_dict = {lot: idx for idx, lot in enumerate(lots)}\n",
    "# print(lot_index_dict)\n"
   ]
  },
  {
   "cell_type": "code",
   "execution_count": 6,
   "id": "de418acd",
   "metadata": {},
   "outputs": [
    {
     "name": "stdout",
     "output_type": "stream",
     "text": [
      "LOT: A5280140, LOT_TYPE: Bull\n",
      "LOT: A5289230, LOT_TYPE: Cross Qual\n",
      "LOT: A5280130, LOT_TYPE: Lead Lot\n",
      "LOT: A5289210, LOT_TYPE: Scout 1\n",
      "LOT: A5289220, LOT_TYPE: Silent Lot\n",
      "LOT: A528920A, LOT_TYPE: SC Scout 2\n",
      "LOT: A5289200, LOT_TYPE: SC Scout 1\n",
      "LOT: A528920B, LOT_TYPE: EF Scout 1\n",
      "LOT: A528920C, LOT_TYPE: EF Scout 2\n"
     ]
    }
   ],
   "source": [
    "for lot in lots:\n",
    "    print(f\"LOT: {lot['LOT']}, LOT_TYPE: {lot['LOT_TYPE']}\")"
   ]
  },
  {
   "cell_type": "code",
   "execution_count": 7,
   "id": "9661ec39",
   "metadata": {},
   "outputs": [
    {
     "name": "stdout",
     "output_type": "stream",
     "text": [
      "LOT: A5280140, LOT_TYPE: Bull\n",
      "Running master query for LOT: 'A5280140'\n"
     ]
    },
    {
     "name": "stderr",
     "output_type": "stream",
     "text": [
      "d:\\Python\\NPI\\PRODUCT.py:102: UserWarning: pandas only supports SQLAlchemy connectable (engine/connection) or database string URI or sqlite3 DBAPI2 connection. Other DBAPI2 objects are not tested. Please consider using SQLAlchemy.\n",
      "  df = pd.read_sql(query, conn)\n"
     ]
    },
    {
     "name": "stdout",
     "output_type": "stream",
     "text": [
      "LOT: A5289230, LOT_TYPE: Cross Qual\n",
      "Running master query for LOT: 'A5289230'\n"
     ]
    },
    {
     "name": "stderr",
     "output_type": "stream",
     "text": [
      "d:\\Python\\NPI\\PRODUCT.py:102: UserWarning: pandas only supports SQLAlchemy connectable (engine/connection) or database string URI or sqlite3 DBAPI2 connection. Other DBAPI2 objects are not tested. Please consider using SQLAlchemy.\n",
      "  df = pd.read_sql(query, conn)\n"
     ]
    },
    {
     "name": "stdout",
     "output_type": "stream",
     "text": [
      "LOT: A5280130, LOT_TYPE: Lead Lot\n",
      "Running master query for LOT: 'A5280130'\n"
     ]
    },
    {
     "name": "stderr",
     "output_type": "stream",
     "text": [
      "d:\\Python\\NPI\\PRODUCT.py:102: UserWarning: pandas only supports SQLAlchemy connectable (engine/connection) or database string URI or sqlite3 DBAPI2 connection. Other DBAPI2 objects are not tested. Please consider using SQLAlchemy.\n",
      "  df = pd.read_sql(query, conn)\n"
     ]
    },
    {
     "name": "stdout",
     "output_type": "stream",
     "text": [
      "LOT: A5289210, LOT_TYPE: Scout 1\n",
      "Running master query for LOT: 'A5289210'\n"
     ]
    },
    {
     "name": "stderr",
     "output_type": "stream",
     "text": [
      "d:\\Python\\NPI\\PRODUCT.py:102: UserWarning: pandas only supports SQLAlchemy connectable (engine/connection) or database string URI or sqlite3 DBAPI2 connection. Other DBAPI2 objects are not tested. Please consider using SQLAlchemy.\n",
      "  df = pd.read_sql(query, conn)\n"
     ]
    },
    {
     "name": "stdout",
     "output_type": "stream",
     "text": [
      "LOT: A5289220, LOT_TYPE: Silent Lot\n",
      "Running master query for LOT: 'A5289220'\n"
     ]
    },
    {
     "name": "stderr",
     "output_type": "stream",
     "text": [
      "d:\\Python\\NPI\\PRODUCT.py:102: UserWarning: pandas only supports SQLAlchemy connectable (engine/connection) or database string URI or sqlite3 DBAPI2 connection. Other DBAPI2 objects are not tested. Please consider using SQLAlchemy.\n",
      "  df = pd.read_sql(query, conn)\n"
     ]
    },
    {
     "name": "stdout",
     "output_type": "stream",
     "text": [
      "LOT: A528920A, LOT_TYPE: SC Scout 2\n",
      "Running master query for LOT: 'A528920A'\n",
      "LOT: A5289200, LOT_TYPE: SC Scout 1\n",
      "Running master query for LOT: 'A5289200'\n"
     ]
    },
    {
     "name": "stderr",
     "output_type": "stream",
     "text": [
      "d:\\Python\\NPI\\PRODUCT.py:102: UserWarning: pandas only supports SQLAlchemy connectable (engine/connection) or database string URI or sqlite3 DBAPI2 connection. Other DBAPI2 objects are not tested. Please consider using SQLAlchemy.\n",
      "  df = pd.read_sql(query, conn)\n",
      "d:\\Python\\NPI\\PRODUCT.py:102: UserWarning: pandas only supports SQLAlchemy connectable (engine/connection) or database string URI or sqlite3 DBAPI2 connection. Other DBAPI2 objects are not tested. Please consider using SQLAlchemy.\n",
      "  df = pd.read_sql(query, conn)\n"
     ]
    },
    {
     "name": "stdout",
     "output_type": "stream",
     "text": [
      "LOT: A528920B, LOT_TYPE: EF Scout 1\n",
      "Running master query for LOT: 'A528920B'\n",
      "LOT: A528920C, LOT_TYPE: EF Scout 2\n",
      "Running master query for LOT: 'A528920C'\n"
     ]
    },
    {
     "name": "stderr",
     "output_type": "stream",
     "text": [
      "d:\\Python\\NPI\\PRODUCT.py:102: UserWarning: pandas only supports SQLAlchemy connectable (engine/connection) or database string URI or sqlite3 DBAPI2 connection. Other DBAPI2 objects are not tested. Please consider using SQLAlchemy.\n",
      "  df = pd.read_sql(query, conn)\n",
      "d:\\Python\\NPI\\PRODUCT.py:102: UserWarning: pandas only supports SQLAlchemy connectable (engine/connection) or database string URI or sqlite3 DBAPI2 connection. Other DBAPI2 objects are not tested. Please consider using SQLAlchemy.\n",
      "  df = pd.read_sql(query, conn)\n"
     ]
    }
   ],
   "source": [
    "prod1.load_lot_list(lots)"
   ]
  },
  {
   "cell_type": "code",
   "execution_count": 9,
   "id": "90491f30",
   "metadata": {},
   "outputs": [],
   "source": [
    "test = prod1.LotFlows\n"
   ]
  },
  {
   "cell_type": "code",
   "execution_count": null,
   "id": "94c7cea1",
   "metadata": {},
   "outputs": [],
   "source": []
  }
 ],
 "metadata": {
  "kernelspec": {
   "display_name": "venv",
   "language": "python",
   "name": "python3"
  },
  "language_info": {
   "codemirror_mode": {
    "name": "ipython",
    "version": 3
   },
   "file_extension": ".py",
   "mimetype": "text/x-python",
   "name": "python",
   "nbconvert_exporter": "python",
   "pygments_lexer": "ipython3",
   "version": "3.13.5"
  }
 },
 "nbformat": 4,
 "nbformat_minor": 5
}
