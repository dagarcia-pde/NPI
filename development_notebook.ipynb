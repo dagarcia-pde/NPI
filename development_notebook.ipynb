{
 "cells": [
  {
   "cell_type": "code",
   "execution_count": 1,
   "id": "ef417faa",
   "metadata": {},
   "outputs": [],
   "source": [
    "import pandas as pd\n",
    "import numpy as np  \n",
    "import sys\n",
    "\n",
    "import PyUber"
   ]
  },
  {
   "cell_type": "code",
   "execution_count": 2,
   "id": "d6b8741a",
   "metadata": {},
   "outputs": [],
   "source": [
    "xeus_source = 'F32_PROD_XEUS'"
   ]
  },
  {
   "cell_type": "code",
   "execution_count": 12,
   "id": "ed94ac02",
   "metadata": {},
   "outputs": [],
   "source": [
    "query = '''\n",
    "    Select Distinct\n",
    "        FLF.LOT\n",
    "        ,FLF.LOT_PROCESS\n",
    "        ,FLF.PRODUCT\n",
    "        ,FLF.OPERATION\n",
    "        ,FLF.OPER_SHORT_DESC\n",
    "        ,O.oper_long_desc AS OPER_LONG_DESC\n",
    "        ,O.area AS AREA\n",
    "        ,O.module AS MODULE\n",
    "        ,FLF.EXEC_SEQ\n",
    "        ,FLF.OUT_DATE\n",
    "        ,FLF.INSTRUCTION_FLAG\n",
    "        ,FLF.SPLIT_FLAG\n",
    "        ,FLF.MERGE_FLAG\n",
    "        ,FLF.SIF_FLAG\n",
    "    From\n",
    "        F_LOT_FLOW FLF,\n",
    "        F_OPERATION O\n",
    "\n",
    "    WHERE\n",
    "        LOT = 'A5280130'\n",
    "        AND O.operation = FLF.operation\n",
    "        AND O.latest_version = 'Y'\n",
    "        and FLF.history_deleted_flag = 'N'\n",
    "    ORDER BY\n",
    "        FLF.EXEC_SEQ\n",
    "'''\n"
   ]
  },
  {
   "cell_type": "code",
   "execution_count": 13,
   "id": "f5b85609",
   "metadata": {},
   "outputs": [
    {
     "name": "stderr",
     "output_type": "stream",
     "text": [
      "C:\\Users\\dagarcia\\AppData\\Local\\Temp\\ipykernel_14484\\3968044218.py:2: UserWarning: pandas only supports SQLAlchemy connectable (engine/connection) or database string URI or sqlite3 DBAPI2 connection. Other DBAPI2 objects are not tested. Please consider using SQLAlchemy.\n",
      "  df = pd.read_sql(query, conn)\n"
     ]
    }
   ],
   "source": [
    "with PyUber.connect(datasource=xeus_source) as conn:\n",
    "    df = pd.read_sql(query, conn)"
   ]
  },
  {
   "cell_type": "code",
   "execution_count": null,
   "id": "54e63b4e",
   "metadata": {},
   "outputs": [],
   "source": [
    "df\n"
   ]
  }
 ],
 "metadata": {
  "kernelspec": {
   "display_name": "venv",
   "language": "python",
   "name": "python3"
  },
  "language_info": {
   "codemirror_mode": {
    "name": "ipython",
    "version": 3
   },
   "file_extension": ".py",
   "mimetype": "text/x-python",
   "name": "python",
   "nbconvert_exporter": "python",
   "pygments_lexer": "ipython3",
   "version": "3.13.1"
  }
 },
 "nbformat": 4,
 "nbformat_minor": 5
}
