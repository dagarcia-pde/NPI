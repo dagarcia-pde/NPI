{
 "cells": [
  {
   "cell_type": "code",
   "execution_count": 63,
   "id": "cf87070d",
   "metadata": {},
   "outputs": [],
   "source": [
    "import pandas as pd\n",
    "import numpy as np  \n",
    "import sys\n",
    "\n",
    "import PyUber\n"
   ]
  },
  {
   "cell_type": "code",
   "execution_count": 64,
   "id": "34e58b0c",
   "metadata": {},
   "outputs": [],
   "source": [
    "xeus_source = 'F32_PROD_XEUS'\n"
   ]
  },
  {
   "cell_type": "code",
   "execution_count": 130,
   "id": "53730c12",
   "metadata": {},
   "outputs": [],
   "source": [
    "query = '''\n",
    "    SELECT DISTINCT\n",
    "        LOT7\n",
    "    FROM\n",
    "        F_LOT\n",
    "    WHERE\n",
    "        PRODUCT LIKE '8PXMCV%G'\n",
    "        AND LOT_TITLE LIKE 'NPI% LL%'\n",
    "'''"
   ]
  },
  {
   "cell_type": "code",
   "execution_count": 131,
   "id": "a451f9a4",
   "metadata": {},
   "outputs": [
    {
     "name": "stderr",
     "output_type": "stream",
     "text": [
      "C:\\Users\\dagarcia\\AppData\\Local\\Temp\\ipykernel_28892\\1420038716.py:2: UserWarning: pandas only supports SQLAlchemy connectable (engine/connection) or database string URI or sqlite3 DBAPI2 connection. Other DBAPI2 objects are not tested. Please consider using SQLAlchemy.\n",
      "  df = pd.read_sql(query, conn)\n"
     ]
    },
    {
     "name": "stdout",
     "output_type": "stream",
     "text": [
      "Unique LOT7 values: ['A528013']\n",
      "LOT7 string for SQL LIKE: 'A528013'\n"
     ]
    }
   ],
   "source": [
    "with PyUber.connect(datasource=xeus_source) as conn:\n",
    "    df = pd.read_sql(query, conn)\n",
    "# df.to_csv(r'debug\\test_query.csv', index=False)\n",
    "\n",
    "unique_lot7 = df['LOT7'].unique()\n",
    "print(f\"Unique LOT7 values: {unique_lot7}\")\n",
    "\n",
    "lot7_like_str = ', '.join([f\"'{lot7}'\" for lot7 in unique_lot7])\n",
    "print(f\"LOT7 string for SQL LIKE: {lot7_like_str}\")"
   ]
  },
  {
   "cell_type": "code",
   "execution_count": 132,
   "id": "36bc9e6c",
   "metadata": {},
   "outputs": [],
   "source": [
    "query = f'''\n",
    "    SELECT DISTINCT\n",
    "        lf.OPERATION\n",
    "        ,lf.OPER_SHORT_DESC AS OPER_SHORT\n",
    "        ,o.oper_long_desc AS OPER_LONG\n",
    "        ,o.area AS AREA\n",
    "        ,o.module AS MODULE\n",
    "        ,MIN(lf.EXEC_SEQ) AS SEQ\n",
    "    FROM\n",
    "        F_LOT_FLOW lf\n",
    "        CROSS JOIN F_Facility f\n",
    "        INNER JOIN F_Operation O ON o.operation=lf.operation AND o.facility = f.facility AND o.latest_version = 'Y'\n",
    "    WHERE\n",
    "        LOT7 IN ({lot7_like_str})\n",
    "        AND LENGTH(LOT) = 8\n",
    "    GROUP BY\n",
    "        lf.OPERATION\n",
    "        ,lf.OPER_SHORT_DESC\n",
    "        ,o.oper_long_desc\n",
    "        ,o.area\n",
    "        ,o.module\n",
    "\n",
    "'''"
   ]
  },
  {
   "cell_type": "code",
   "execution_count": 133,
   "id": "e7c4a0bf",
   "metadata": {},
   "outputs": [
    {
     "name": "stderr",
     "output_type": "stream",
     "text": [
      "C:\\Users\\dagarcia\\AppData\\Local\\Temp\\ipykernel_28892\\874466524.py:2: UserWarning: pandas only supports SQLAlchemy connectable (engine/connection) or database string URI or sqlite3 DBAPI2 connection. Other DBAPI2 objects are not tested. Please consider using SQLAlchemy.\n",
      "  df = pd.read_sql(query, conn)\n"
     ]
    }
   ],
   "source": [
    "\n",
    "with PyUber.connect(datasource=xeus_source) as conn:\n",
    "    df = pd.read_sql(query, conn)\n",
    "    \n",
    "df['OPERATION'] = df['OPERATION'].astype(int)\n",
    "df['SEQ'] = df['SEQ'].astype(int)\n",
    "df.to_csv(r'debug\\test_query.csv', index=False)"
   ]
  },
  {
   "cell_type": "code",
   "execution_count": 134,
   "id": "53fcfd80",
   "metadata": {},
   "outputs": [],
   "source": [
    "df2 = df.sort_values(by='SEQ').reset_index(drop=True)\n"
   ]
  },
  {
   "cell_type": "code",
   "execution_count": 135,
   "id": "b2486556",
   "metadata": {},
   "outputs": [
    {
     "data": {
      "application/vnd.microsoft.datawrangler.viewer.v0+json": {
       "columns": [
        {
         "name": "index",
         "rawType": "object",
         "type": "string"
        },
        {
         "name": "0",
         "rawType": "object",
         "type": "unknown"
        }
       ],
       "ref": "a6159461-0f65-43f9-8c0d-5d23da80df85",
       "rows": [
        [
         "OPERATION",
         "int64"
        ],
        [
         "OPER_SHORT",
         "object"
        ],
        [
         "OPER_LONG",
         "object"
        ],
        [
         "AREA",
         "object"
        ],
        [
         "MODULE",
         "object"
        ],
        [
         "SEQ",
         "int64"
        ]
       ],
       "shape": {
        "columns": 1,
        "rows": 6
       }
      },
      "text/plain": [
       "OPERATION      int64\n",
       "OPER_SHORT    object\n",
       "OPER_LONG     object\n",
       "AREA          object\n",
       "MODULE        object\n",
       "SEQ            int64\n",
       "dtype: object"
      ]
     },
     "execution_count": 135,
     "metadata": {},
     "output_type": "execute_result"
    }
   ],
   "source": [
    "df2.dtypes"
   ]
  },
  {
   "cell_type": "code",
   "execution_count": 136,
   "id": "d8a8302c",
   "metadata": {},
   "outputs": [],
   "source": [
    "\n",
    "# Define module lists\n",
    "modules_18A = [\n",
    "    \"LI-SAVli\", \"LI-SAYli\", \"LI-SBHcu\", \"LI-SBLcu\", \"LI-SNEli\", \"LI-SNYli\"\n",
    "]\n",
    "\n",
    "modules_10nm = [\n",
    "    \"LI-BE-193\", \"LI-BE-SED\", \"LI-BE-WET\", \"LI-FE-193\", \"LI-PD-WET\",\n",
    "    \"LI-SSAFI-WET\", \"LI-WET\", \"LI-FE-248\"\n",
    "]\n"
   ]
  },
  {
   "cell_type": "code",
   "execution_count": 137,
   "id": "97d8dab9",
   "metadata": {},
   "outputs": [
    {
     "data": {
      "application/vnd.microsoft.datawrangler.viewer.v0+json": {
       "columns": [
        {
         "name": "index",
         "rawType": "object",
         "type": "string"
        },
        {
         "name": "0",
         "rawType": "object",
         "type": "unknown"
        }
       ],
       "ref": "987e8c18-46b8-4a1a-b67c-689015e9efc5",
       "rows": [
        [
         "OPERATION",
         "261369"
        ],
        [
         "OPER_SHORT",
         "T 8BSKRSTG"
        ],
        [
         "OPER_LONG",
         "T P1278 BESKAR STAGING"
        ],
        [
         "AREA",
         "THIN FILMS"
        ],
        [
         "MODULE",
         "TF-TADro-STG"
        ],
        [
         "SEQ",
         "1"
        ]
       ],
       "shape": {
        "columns": 1,
        "rows": 6
       }
      },
      "text/plain": [
       "OPERATION                     261369\n",
       "OPER_SHORT                T 8BSKRSTG\n",
       "OPER_LONG     T P1278 BESKAR STAGING\n",
       "AREA                      THIN FILMS\n",
       "MODULE                  TF-TADro-STG\n",
       "SEQ                                1\n",
       "Name: 0, dtype: object"
      ]
     },
     "execution_count": 137,
     "metadata": {},
     "output_type": "execute_result"
    }
   ],
   "source": [
    "\n",
    "first_row = df2.iloc[0]\n",
    "first_row\n"
   ]
  },
  {
   "cell_type": "code",
   "execution_count": 138,
   "id": "eca3355b",
   "metadata": {},
   "outputs": [
    {
     "ename": "ValueError",
     "evalue": "The truth value of a Series is ambiguous. Use a.empty, a.bool(), a.item(), a.any() or a.all().",
     "output_type": "error",
     "traceback": [
      "\u001b[31m---------------------------------------------------------------------------\u001b[39m",
      "\u001b[31mValueError\u001b[39m                                Traceback (most recent call last)",
      "\u001b[32m~\\AppData\\Local\\Temp\\ipykernel_28892\\1020090010.py\u001b[39m in \u001b[36m?\u001b[39m\u001b[34m()\u001b[39m\n\u001b[32m      1\u001b[39m df3 = df2[\n\u001b[32m----> \u001b[39m\u001b[32m2\u001b[39m     (df2['SEQ'] == df2['SEQ'].min()\n\u001b[32m      3\u001b[39m      | df2[\u001b[33m'OPERATION'\u001b[39m] == \u001b[32m9812\u001b[39m\n\u001b[32m      4\u001b[39m      | ((df2['AREA'] == 'LITHO')\n\u001b[32m      5\u001b[39m     \u001b[38;5;66;03m#    & df['MODULE'].isin(modules_18A + modules_10nm)\u001b[39;00m\n",
      "\u001b[32md:\\Python\\NPI\\venv\\Lib\\site-packages\\pandas\\core\\generic.py\u001b[39m in \u001b[36m?\u001b[39m\u001b[34m(self)\u001b[39m\n\u001b[32m   1575\u001b[39m     @final\n\u001b[32m   1576\u001b[39m     \u001b[38;5;28;01mdef\u001b[39;00m __nonzero__(self) -> NoReturn:\n\u001b[32m-> \u001b[39m\u001b[32m1577\u001b[39m         raise ValueError(\n\u001b[32m   1578\u001b[39m             f\"The truth value of a {type(self).__name__} is ambiguous. \"\n\u001b[32m   1579\u001b[39m             \u001b[33m\"Use a.empty, a.bool(), a.item(), a.any() or a.all().\"\u001b[39m\n\u001b[32m   1580\u001b[39m         )\n",
      "\u001b[31mValueError\u001b[39m: The truth value of a Series is ambiguous. Use a.empty, a.bool(), a.item(), a.any() or a.all()."
     ]
    }
   ],
   "source": [
    "\n",
    "df3 = df2[\n",
    "    (df2['SEQ'] == df2['SEQ'].min()\n",
    "     | df2['OPERATION'] == 9812\n",
    "     | ((df2['AREA'] == 'LITHO')\n",
    "    #    & df['MODULE'].isin(modules_18A + modules_10nm)\n",
    "       )\n",
    "    )\n",
    "]\n",
    "\n",
    "# df2.to_csv(r'debug\\test_query.csv', index=False)"
   ]
  },
  {
   "cell_type": "code",
   "execution_count": 141,
   "id": "c44a0606",
   "metadata": {},
   "outputs": [],
   "source": [
    "df3 = df2[(df2['OPERATION'] == 9812)\n",
    "          | (df2['SEQ'] == df2['SEQ'].min())\n",
    "          | ((df2['AREA']=='LITHO') & (df['MODULE'].isin(modules_18A + modules_10nm))\n",
    "             \n",
    "          )\n",
    "         ]"
   ]
  },
  {
   "cell_type": "code",
   "execution_count": 156,
   "id": "62210892",
   "metadata": {},
   "outputs": [],
   "source": [
    "df3 = df2.copy() \n",
    "df3['PC_STARTS_flag'] = False\n",
    "df3['OPERATION_flag'] = False\n",
    "# df3['AREA_flag'] = False\n",
    "df3['MODULE_flag'] = False\n",
    "df3.loc[df3['MODULE'] == \"PC-STARTS\", 'PC_STARTS_flag'] = True\n",
    "df3.loc[df3['OPERATION'] == 9812, 'OPERATION_flag'] = True\n",
    "# df3.loc[df3['AREA'] == 'LITHO', 'AREA_flag'] = True\n",
    "df3.loc[df3['MODULE'].isin(modules_18A + modules_10nm), 'MODULE_flag'] = True\n",
    "\n",
    "df3 = df3[df3[['PC_STARTS_flag', 'OPERATION_flag', 'MODULE_flag']].any(axis=1)].reset_index(drop=True)\n",
    "\n",
    "\n",
    "df3['ORDER'] = range(len(df3))\n",
    "df3 = df3.drop(columns=['PC_STARTS_flag', 'OPERATION_flag', 'MODULE_flag','SEQ','MODULE','AREA'])"
   ]
  },
  {
   "cell_type": "code",
   "execution_count": 169,
   "id": "16d4062e",
   "metadata": {},
   "outputs": [],
   "source": [
    "def get_layer(row):\n",
    "    \n",
    "        \n",
    "    if row['OPER_LONG'].find('START') != -1: return 'START'\n",
    "    if row['OPER_LONG'].find('PACK') != -1: return 'SHIP'\n",
    "    \n",
    "    value = row['OPER_SHORT']\n",
    "\n",
    "    cond_list = [' ','#',\n",
    "                'L58','L5B','L52','L46','L4H','L4','L5', #10nm conditions\n",
    "                'L8xr','L8c','L8s','L8b','L86','L81','L8d','L8' #18A conditions\n",
    "                ] \n",
    "    for cond in cond_list:\n",
    "        value = value.replace(cond,'')\n",
    "    \n",
    "    value = value[:3]\n",
    "\n",
    "    if row['OPER_LONG'].find(value) == -1:\n",
    "        if value[0]=='M':\n",
    "            value = 'MT' + value[1]\n",
    "        else:\n",
    "            value = 'VA' + value[1]    \n",
    "    \n",
    "    return value\n",
    "\n",
    "df3['LAYER'] = df3.apply(lambda row: get_layer(row), axis=1 )"
   ]
  },
  {
   "cell_type": "code",
   "execution_count": null,
   "id": "0dd91cfc",
   "metadata": {},
   "outputs": [],
   "source": []
  },
  {
   "cell_type": "code",
   "execution_count": null,
   "id": "502a5d42",
   "metadata": {},
   "outputs": [],
   "source": []
  }
 ],
 "metadata": {
  "kernelspec": {
   "display_name": "venv",
   "language": "python",
   "name": "python3"
  },
  "language_info": {
   "codemirror_mode": {
    "name": "ipython",
    "version": 3
   },
   "file_extension": ".py",
   "mimetype": "text/x-python",
   "name": "python",
   "nbconvert_exporter": "python",
   "pygments_lexer": "ipython3",
   "version": "3.13.5"
  }
 },
 "nbformat": 4,
 "nbformat_minor": 5
}
