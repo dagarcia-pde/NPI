{
 "cells": [
  {
   "cell_type": "code",
   "execution_count": 14,
   "id": "cf87070d",
   "metadata": {},
   "outputs": [],
   "source": [
    "import pandas as pd\n",
    "import numpy as np  \n",
    "import re\n",
    "import sys\n",
    "import openpyxl\n",
    "\n",
    "import PyUber\n",
    "\n",
    "import PRODUCT as prod\n",
    "import REDWING as redwing"
   ]
  },
  {
   "cell_type": "code",
   "execution_count": 2,
   "id": "368021b0",
   "metadata": {},
   "outputs": [
    {
     "name": "stderr",
     "output_type": "stream",
     "text": [
      "d:\\Python\\NPI\\REDWING.py:67: UserWarning: pandas only supports SQLAlchemy connectable (engine/connection) or database string URI or sqlite3 DBAPI2 connection. Other DBAPI2 objects are not tested. Please consider using SQLAlchemy.\n",
      "  df = pd.read_sql(query, conn)\n"
     ]
    }
   ],
   "source": [
    "rw = redwing.RedWing(\n",
    "    xeus_source='F32_PROD_XEUS',\n",
    "    debug_flag=True)"
   ]
  },
  {
   "cell_type": "code",
   "execution_count": 3,
   "id": "febde652",
   "metadata": {},
   "outputs": [
    {
     "name": "stdout",
     "output_type": "stream",
     "text": [
      "8PXMCV%A%G\n"
     ]
    }
   ],
   "source": [
    "NPI = rw.NPIs[2]\n",
    "match = re.search(r'\\((.*?)\\)', NPI)\n",
    "NPI_product = match.group(1) if match else None\n",
    "NPI_product = NPI_product.replace(' ','%')\n",
    "print(NPI_product)"
   ]
  },
  {
   "cell_type": "code",
   "execution_count": 4,
   "id": "14c0eae7",
   "metadata": {},
   "outputs": [
    {
     "name": "stderr",
     "output_type": "stream",
     "text": [
      "d:\\Python\\NPI\\PRODUCT.py:103: UserWarning: pandas only supports SQLAlchemy connectable (engine/connection) or database string URI or sqlite3 DBAPI2 connection. Other DBAPI2 objects are not tested. Please consider using SQLAlchemy.\n",
      "  df = pd.read_sql(query, conn)\n"
     ]
    },
    {
     "name": "stdout",
     "output_type": "stream",
     "text": [
      "Running master query for LOT: 'A528013'\n"
     ]
    }
   ],
   "source": [
    "prod1 = prod.Product(npi=NPI,\n",
    "                product=NPI_product,\n",
    "                xeus_source = 'F32_PROD_XEUS',\n",
    "                debug_flag = True)"
   ]
  },
  {
   "cell_type": "code",
   "execution_count": 5,
   "id": "97b6fc75",
   "metadata": {},
   "outputs": [
    {
     "name": "stdout",
     "output_type": "stream",
     "text": [
      "[{'LOT': 'A5280140', 'LOT_TYPE': 'Bull', 'COMMIT': Timestamp('2025-12-03 18:00:00')}, {'LOT': 'A5289230', 'LOT_TYPE': 'Cross Qual', 'COMMIT': Timestamp('2025-11-15 18:00:00')}, {'LOT': 'A5280130', 'LOT_TYPE': 'Lead Lot', 'COMMIT': Timestamp('2025-11-30 18:00:00')}, {'LOT': 'A5289210', 'LOT_TYPE': 'Scout 1', 'COMMIT': Timestamp('2025-11-26 18:00:00')}, {'LOT': 'A5289220', 'LOT_TYPE': 'Silent Lot', 'COMMIT': Timestamp('2025-11-28 18:00:00')}, {'LOT': 'A528920A', 'LOT_TYPE': 'SC Scout 2', 'COMMIT': Timestamp('2025-11-24 18:00:00')}, {'LOT': 'A5289200', 'LOT_TYPE': 'SC Scout 1', 'COMMIT': Timestamp('2025-11-24 18:00:00')}, {'LOT': 'A528920B', 'LOT_TYPE': 'EF Scout 1', 'COMMIT': Timestamp('2025-11-20 18:00:00')}, {'LOT': 'A528920C', 'LOT_TYPE': 'EF Scout 2', 'COMMIT': Timestamp('2025-11-22 18:00:00')}]\n"
     ]
    }
   ],
   "source": [
    "# Future add_lot code def\n",
    "\n",
    "# rw.NPI_List\n",
    "\n",
    "lots = rw.get_lots(GROUP_NAME=NPI)\n",
    "\n",
    "# lots = lots[0:1]\n",
    "\n",
    "print(lots)\n",
    "# for lot in lots:\n",
    "    # print(lot)\n",
    "\n",
    "# lot_index_dict = {lot: idx for idx, lot in enumerate(lots)}\n",
    "# print(lot_index_dict)\n"
   ]
  },
  {
   "cell_type": "code",
   "execution_count": 6,
   "id": "de418acd",
   "metadata": {},
   "outputs": [
    {
     "name": "stdout",
     "output_type": "stream",
     "text": [
      "LOT: A5280140, LOT_TYPE: Bull, COMMIT: 2025-12-03 18:00:00\n",
      "LOT: A5289230, LOT_TYPE: Cross Qual, COMMIT: 2025-11-15 18:00:00\n",
      "LOT: A5280130, LOT_TYPE: Lead Lot, COMMIT: 2025-11-30 18:00:00\n",
      "LOT: A5289210, LOT_TYPE: Scout 1, COMMIT: 2025-11-26 18:00:00\n",
      "LOT: A5289220, LOT_TYPE: Silent Lot, COMMIT: 2025-11-28 18:00:00\n",
      "LOT: A528920A, LOT_TYPE: SC Scout 2, COMMIT: 2025-11-24 18:00:00\n",
      "LOT: A5289200, LOT_TYPE: SC Scout 1, COMMIT: 2025-11-24 18:00:00\n",
      "LOT: A528920B, LOT_TYPE: EF Scout 1, COMMIT: 2025-11-20 18:00:00\n",
      "LOT: A528920C, LOT_TYPE: EF Scout 2, COMMIT: 2025-11-22 18:00:00\n"
     ]
    }
   ],
   "source": [
    "for lot in lots:\n",
    "    print(f\"LOT: {lot['LOT']}, LOT_TYPE: {lot['LOT_TYPE']}, COMMIT: {lot['COMMIT']}\")"
   ]
  },
  {
   "cell_type": "code",
   "execution_count": 7,
   "id": "9661ec39",
   "metadata": {},
   "outputs": [
    {
     "name": "stdout",
     "output_type": "stream",
     "text": [
      "LOT: A5280140, LOT_TYPE: Bull\n",
      "Running master query for LOT: 'A5280140'\n"
     ]
    },
    {
     "name": "stderr",
     "output_type": "stream",
     "text": [
      "d:\\Python\\NPI\\PRODUCT.py:103: UserWarning: pandas only supports SQLAlchemy connectable (engine/connection) or database string URI or sqlite3 DBAPI2 connection. Other DBAPI2 objects are not tested. Please consider using SQLAlchemy.\n",
      "  df = pd.read_sql(query, conn)\n"
     ]
    },
    {
     "name": "stdout",
     "output_type": "stream",
     "text": [
      "LOT: A5289230, LOT_TYPE: Cross Qual\n",
      "Running master query for LOT: 'A5289230'\n"
     ]
    },
    {
     "name": "stderr",
     "output_type": "stream",
     "text": [
      "d:\\Python\\NPI\\PRODUCT.py:103: UserWarning: pandas only supports SQLAlchemy connectable (engine/connection) or database string URI or sqlite3 DBAPI2 connection. Other DBAPI2 objects are not tested. Please consider using SQLAlchemy.\n",
      "  df = pd.read_sql(query, conn)\n"
     ]
    },
    {
     "name": "stdout",
     "output_type": "stream",
     "text": [
      "LOT: A5280130, LOT_TYPE: Lead Lot\n",
      "Running master query for LOT: 'A5280130'\n"
     ]
    },
    {
     "name": "stderr",
     "output_type": "stream",
     "text": [
      "d:\\Python\\NPI\\PRODUCT.py:103: UserWarning: pandas only supports SQLAlchemy connectable (engine/connection) or database string URI or sqlite3 DBAPI2 connection. Other DBAPI2 objects are not tested. Please consider using SQLAlchemy.\n",
      "  df = pd.read_sql(query, conn)\n"
     ]
    },
    {
     "name": "stdout",
     "output_type": "stream",
     "text": [
      "LOT: A5289210, LOT_TYPE: Scout 1\n",
      "Running master query for LOT: 'A5289210'\n"
     ]
    },
    {
     "name": "stderr",
     "output_type": "stream",
     "text": [
      "d:\\Python\\NPI\\PRODUCT.py:103: UserWarning: pandas only supports SQLAlchemy connectable (engine/connection) or database string URI or sqlite3 DBAPI2 connection. Other DBAPI2 objects are not tested. Please consider using SQLAlchemy.\n",
      "  df = pd.read_sql(query, conn)\n"
     ]
    },
    {
     "name": "stdout",
     "output_type": "stream",
     "text": [
      "LOT: A5289220, LOT_TYPE: Silent Lot\n",
      "Running master query for LOT: 'A5289220'\n"
     ]
    },
    {
     "name": "stderr",
     "output_type": "stream",
     "text": [
      "d:\\Python\\NPI\\PRODUCT.py:103: UserWarning: pandas only supports SQLAlchemy connectable (engine/connection) or database string URI or sqlite3 DBAPI2 connection. Other DBAPI2 objects are not tested. Please consider using SQLAlchemy.\n",
      "  df = pd.read_sql(query, conn)\n"
     ]
    },
    {
     "name": "stdout",
     "output_type": "stream",
     "text": [
      "LOT: A528920A, LOT_TYPE: SC Scout 2\n",
      "Running master query for LOT: 'A528920A'\n"
     ]
    },
    {
     "name": "stderr",
     "output_type": "stream",
     "text": [
      "d:\\Python\\NPI\\PRODUCT.py:103: UserWarning: pandas only supports SQLAlchemy connectable (engine/connection) or database string URI or sqlite3 DBAPI2 connection. Other DBAPI2 objects are not tested. Please consider using SQLAlchemy.\n",
      "  df = pd.read_sql(query, conn)\n"
     ]
    },
    {
     "name": "stdout",
     "output_type": "stream",
     "text": [
      "LOT: A5289200, LOT_TYPE: SC Scout 1\n",
      "Running master query for LOT: 'A5289200'\n"
     ]
    },
    {
     "name": "stderr",
     "output_type": "stream",
     "text": [
      "d:\\Python\\NPI\\PRODUCT.py:103: UserWarning: pandas only supports SQLAlchemy connectable (engine/connection) or database string URI or sqlite3 DBAPI2 connection. Other DBAPI2 objects are not tested. Please consider using SQLAlchemy.\n",
      "  df = pd.read_sql(query, conn)\n"
     ]
    },
    {
     "name": "stdout",
     "output_type": "stream",
     "text": [
      "LOT: A528920B, LOT_TYPE: EF Scout 1\n",
      "Running master query for LOT: 'A528920B'\n"
     ]
    },
    {
     "name": "stderr",
     "output_type": "stream",
     "text": [
      "d:\\Python\\NPI\\PRODUCT.py:103: UserWarning: pandas only supports SQLAlchemy connectable (engine/connection) or database string URI or sqlite3 DBAPI2 connection. Other DBAPI2 objects are not tested. Please consider using SQLAlchemy.\n",
      "  df = pd.read_sql(query, conn)\n"
     ]
    },
    {
     "name": "stdout",
     "output_type": "stream",
     "text": [
      "LOT: A528920C, LOT_TYPE: EF Scout 2\n",
      "Running master query for LOT: 'A528920C'\n"
     ]
    },
    {
     "name": "stderr",
     "output_type": "stream",
     "text": [
      "d:\\Python\\NPI\\PRODUCT.py:103: UserWarning: pandas only supports SQLAlchemy connectable (engine/connection) or database string URI or sqlite3 DBAPI2 connection. Other DBAPI2 objects are not tested. Please consider using SQLAlchemy.\n",
      "  df = pd.read_sql(query, conn)\n"
     ]
    }
   ],
   "source": [
    "prod1.load_lot_list(lots)"
   ]
  },
  {
   "cell_type": "code",
   "execution_count": 8,
   "id": "69547bcf",
   "metadata": {},
   "outputs": [
    {
     "data": {
      "text/plain": [
       "'8PXMCV%A%G'"
      ]
     },
     "execution_count": 8,
     "metadata": {},
     "output_type": "execute_result"
    }
   ],
   "source": [
    "NPI_product\n",
    "\n"
   ]
  },
  {
   "cell_type": "code",
   "execution_count": null,
   "id": "dc00d79a",
   "metadata": {},
   "outputs": [],
   "source": []
  },
  {
   "cell_type": "code",
   "execution_count": 9,
   "id": "688a41a1",
   "metadata": {},
   "outputs": [],
   "source": [
    "def sql_Reticle_query(fab_prod,ret_name,imo_fab_list=\"'F32','F42','F12','F22','F52'\"):\n",
    "    query = f'''\n",
    "        SELECT \n",
    "            z0.commonname AS common_name\n",
    "            ,z0.title AS title\n",
    "            ,'{fab_prod}' AS FAB_PROD\n",
    "            ,z0.product AS RET_PROD\n",
    "            ,z0.rev AS rev\n",
    "            ,z0.layer AS layer\n",
    "            ,z0.step AS step\n",
    "            ,z0.platetype AS plate_type\n",
    "            ,z0.tapeintrend AS tapein_trend\n",
    "            ,z0.itotrend AS ito_trend\n",
    "            ,To_Char(z0.itocommit,'yyyy-mm-dd hh24:mi:ss') AS ito_commit\n",
    "            ,z0.itostatus AS ito_status\n",
    "            ,z0.retfabrev AS ret_fabrev\n",
    "            ,z0.fab AS fab\n",
    "            ,z0.barcode AS barcode\n",
    "            ,z0.imotrend AS imo_trend\n",
    "            ,To_Char(z0.imocommit,'yyyy-mm-dd hh24:mi:ss') AS imo_commit\n",
    "            ,z0.imostatus AS imo_status\n",
    "            ,To_Char(z0.shipdate,'yyyy-mm-dd hh24:mi:ss') AS shipdate\n",
    "            ,z0.fabrequireddate AS fab_requireddate\n",
    "            ,z0.imodotprocess AS imo_dotprocess\n",
    "            ,z0.imoishot AS imo_ishot\n",
    "            ,z0.technology AS technology\n",
    "            ,z0.toengcontact AS to_engcontact\n",
    "            ,z0.dbnames AS dbnames\n",
    "            ,To_Char(z0.last_updated_timestamp,'yyyy-mm-dd hh24:mi:ss') AS last_updated_timestamp\n",
    "        FROM \n",
    "            F_IMO_TRIFECTA_DASHBOARD z0\n",
    "        WHERE\n",
    "            1=1\n",
    "            --AND z0.last_updated_timestamp >= SYSDATE - 180 \n",
    "            AND z0.fab In ({imo_fab_list})     \n",
    "            AND (\n",
    "                z0.product LIKE '{ret_name}'\n",
    "            )\n",
    "    '''\n",
    "    return query"
   ]
  },
  {
   "cell_type": "code",
   "execution_count": 10,
   "id": "1b48b8d0",
   "metadata": {},
   "outputs": [],
   "source": [
    "sql = sql_Reticle_query(NPI_product,NPI_product[:5]+NPI_product[-1:])"
   ]
  },
  {
   "cell_type": "code",
   "execution_count": 17,
   "id": "6599f58f",
   "metadata": {},
   "outputs": [
    {
     "name": "stderr",
     "output_type": "stream",
     "text": [
      "d:\\Python\\NPI\\PRODUCT.py:103: UserWarning: pandas only supports SQLAlchemy connectable (engine/connection) or database string URI or sqlite3 DBAPI2 connection. Other DBAPI2 objects are not tested. Please consider using SQLAlchemy.\n",
      "  df = pd.read_sql(query, conn)\n"
     ]
    }
   ],
   "source": [
    "df = prod1.run_query(sql, xeus_source='D1D_PROD_XEUS_CENTRAL')"
   ]
  },
  {
   "cell_type": "code",
   "execution_count": 16,
   "id": "1f05e33e",
   "metadata": {},
   "outputs": [
    {
     "data": {
      "application/vnd.microsoft.datawrangler.viewer.v0+json": {
       "columns": [
        {
         "name": "index",
         "rawType": "int64",
         "type": "integer"
        },
        {
         "name": "RET_PROD",
         "rawType": "object",
         "type": "string"
        },
        {
         "name": "LAYER",
         "rawType": "object",
         "type": "string"
        },
        {
         "name": "VERSION",
         "rawType": "object",
         "type": "string"
        }
       ],
       "ref": "f878ee0a-dbca-43c6-b13c-e3553d358437",
       "rows": [
        [
         "0",
         "8PXSCB",
         "DNU",
         "0EB"
        ],
        [
         "1",
         "8PXSCB",
         "FT1",
         "0AA"
        ],
        [
         "2",
         "8PXSCB",
         "FT2",
         "0AA"
        ],
        [
         "3",
         "8PXMCG",
         "DNU",
         "0EA"
        ]
       ],
       "shape": {
        "columns": 3,
        "rows": 4
       }
      },
      "text/html": [
       "<div>\n",
       "<style scoped>\n",
       "    .dataframe tbody tr th:only-of-type {\n",
       "        vertical-align: middle;\n",
       "    }\n",
       "\n",
       "    .dataframe tbody tr th {\n",
       "        vertical-align: top;\n",
       "    }\n",
       "\n",
       "    .dataframe thead th {\n",
       "        text-align: right;\n",
       "    }\n",
       "</style>\n",
       "<table border=\"1\" class=\"dataframe\">\n",
       "  <thead>\n",
       "    <tr style=\"text-align: right;\">\n",
       "      <th></th>\n",
       "      <th>RET_PROD</th>\n",
       "      <th>LAYER</th>\n",
       "      <th>VERSION</th>\n",
       "    </tr>\n",
       "  </thead>\n",
       "  <tbody>\n",
       "    <tr>\n",
       "      <th>0</th>\n",
       "      <td>8PXSCB</td>\n",
       "      <td>DNU</td>\n",
       "      <td>0EB</td>\n",
       "    </tr>\n",
       "    <tr>\n",
       "      <th>1</th>\n",
       "      <td>8PXSCB</td>\n",
       "      <td>FT1</td>\n",
       "      <td>0AA</td>\n",
       "    </tr>\n",
       "    <tr>\n",
       "      <th>2</th>\n",
       "      <td>8PXSCB</td>\n",
       "      <td>FT2</td>\n",
       "      <td>0AA</td>\n",
       "    </tr>\n",
       "    <tr>\n",
       "      <th>3</th>\n",
       "      <td>8PXMCG</td>\n",
       "      <td>DNU</td>\n",
       "      <td>0EA</td>\n",
       "    </tr>\n",
       "  </tbody>\n",
       "</table>\n",
       "</div>"
      ],
      "text/plain": [
       "  RET_PROD LAYER VERSION\n",
       "0   8PXSCB   DNU     0EB\n",
       "1   8PXSCB   FT1     0AA\n",
       "2   8PXSCB   FT2     0AA\n",
       "3   8PXMCG   DNU     0EA"
      ]
     },
     "execution_count": 16,
     "metadata": {},
     "output_type": "execute_result"
    }
   ],
   "source": [
    "filepath = \"ReticleConfig.xlsx\"\n",
    "\n",
    "retConfig = pd.read_excel(filepath, sheet_name='ReticleConfig')\n",
    "retConfig"
   ]
  },
  {
   "cell_type": "code",
   "execution_count": null,
   "id": "cadb1787",
   "metadata": {},
   "outputs": [],
   "source": [
    "df"
   ]
  }
 ],
 "metadata": {
  "kernelspec": {
   "display_name": "venv",
   "language": "python",
   "name": "python3"
  },
  "language_info": {
   "codemirror_mode": {
    "name": "ipython",
    "version": 3
   },
   "file_extension": ".py",
   "mimetype": "text/x-python",
   "name": "python",
   "nbconvert_exporter": "python",
   "pygments_lexer": "ipython3",
   "version": "3.13.1"
  }
 },
 "nbformat": 4,
 "nbformat_minor": 5
}
