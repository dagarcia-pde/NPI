{
 "cells": [
  {
   "cell_type": "code",
   "execution_count": null,
   "id": "34c0bfdc",
   "metadata": {},
   "outputs": [],
   "source": [
    "import pandas as pd\n",
    "import numpy as np  \n",
    "import sys\n",
    "\n",
    "import PyUber\n"
   ]
  },
  {
   "cell_type": "code",
   "execution_count": 5,
   "id": "e68bc982",
   "metadata": {},
   "outputs": [],
   "source": [
    "xeus_source = 'F32_PROD_XEUS'\n"
   ]
  },
  {
   "cell_type": "code",
   "execution_count": 12,
   "id": "723a929a",
   "metadata": {},
   "outputs": [],
   "source": [
    "query = '''\n",
    "    Select DISTINCT\n",
    "        RWD.DEPT_NAME,\n",
    "        RWG.GROUP_NAME,\n",
    "        RWLM.DOTPROCESS,\n",
    "        RWLG.SCENARIO_NAME,\n",
    "        FL.LOT_TITLE,\n",
    "        RWLG.LOT,\n",
    "        RWLM.OPERATION || ' ' || RWLM.OPER_SHORT_DESC,\n",
    "        RWLS.SEGMENT_DAY AS SEG_DAY,\n",
    "        RWSS.HOTBOX AS HB,\n",
    "        RWLS.COMMITOUT AS COMMIT_OUT,\n",
    "        RWLS.EXPECTEDOUT AS ETA,\n",
    "        RWLM.HAO as HAO\n",
    "        \n",
    "    FROM\n",
    "        F_RW_DEPT RWD,\n",
    "        F_RW_GROUP RWG,\n",
    "        F_RW_LOT_GROUP RWLG,\n",
    "        F_RW_LOT_MASTER RWLM,\n",
    "        F_RW_LOT_SCENARIO RWLS,\n",
    "        F_RW_SCENARIO_SUM RWSS,\n",
    "        F_LOT FL\n",
    "    WHERE\n",
    "        RWD.DEPT_NAME LIKE '%NPI%'\n",
    "        AND RWD.DEPT_ID = RWG.DEPT_ID\n",
    "        AND RWLG.GROUP_ID = RWG.GROUP_ID\n",
    "        AND RWLG.UPDATED_BY NOT LIKE '%ATC%'\n",
    "        AND RWLG.LOT = RWLM.LOT\n",
    "        AND RWLG.LOT = RWLS.LOT\n",
    "        AND RWLG.LOT = RWSS.LOT\n",
    "        AND RWLG.LOT = FL.LOT\n",
    "        AND RWLG.SCENARIO_NAME = RWLS.SCENARIO_NAME\n",
    "        AND RWLG.SCENARIO_NAME = RWSS.SCENARIO_NAME\n",
    "        \n",
    "    Order By\n",
    "        RWD.DEPT_NAME desc,\n",
    "        RWG.GROUP_NAME,\n",
    "        RWLG.SCENARIO_NAME\n",
    "'''"
   ]
  },
  {
   "cell_type": "code",
   "execution_count": 13,
   "id": "737a7f4e",
   "metadata": {},
   "outputs": [
    {
     "name": "stderr",
     "output_type": "stream",
     "text": [
      "C:\\Users\\dagarcia\\AppData\\Local\\Temp\\ipykernel_30340\\3968044218.py:2: UserWarning: pandas only supports SQLAlchemy connectable (engine/connection) or database string URI or sqlite3 DBAPI2 connection. Other DBAPI2 objects are not tested. Please consider using SQLAlchemy.\n",
      "  df = pd.read_sql(query, conn)\n"
     ]
    }
   ],
   "source": [
    "with PyUber.connect(datasource=xeus_source) as conn:\n",
    "    df = pd.read_sql(query, conn)"
   ]
  },
  {
   "cell_type": "code",
   "execution_count": 14,
   "id": "3e262f10",
   "metadata": {},
   "outputs": [],
   "source": [
    "df = df[df['LOT_TITLE'].str.startswith('NPI')]"
   ]
  },
  {
   "cell_type": "code",
   "execution_count": null,
   "id": "5a7f80dd",
   "metadata": {},
   "outputs": [],
   "source": []
  }
 ],
 "metadata": {
  "kernelspec": {
   "display_name": "venv",
   "language": "python",
   "name": "python3"
  },
  "language_info": {
   "codemirror_mode": {
    "name": "ipython",
    "version": 3
   },
   "file_extension": ".py",
   "mimetype": "text/x-python",
   "name": "python",
   "nbconvert_exporter": "python",
   "pygments_lexer": "ipython3",
   "version": "3.13.5"
  }
 },
 "nbformat": 4,
 "nbformat_minor": 5
}
